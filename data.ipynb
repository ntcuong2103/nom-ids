{
 "cells": [
  {
   "cell_type": "markdown",
   "metadata": {},
   "source": [
    "### Build vocab for THK MTH datasets"
   ]
  },
  {
   "cell_type": "code",
   "execution_count": null,
   "metadata": {},
   "outputs": [],
   "source": [
    "path = 'datasets/tkh-mth2k2'\n",
    "\n",
    "import glob\n",
    "vocab = set()\n",
    "\n",
    "for label_path in glob.glob(f'{path}/**/*.txt', recursive=True):\n",
    "    if 'label_textline' in label_path:\n",
    "        with open(label_path, 'r') as f:\n",
    "            for line in f:\n",
    "                vocab.update(line.strip().split(',')[0])"
   ]
  },
  {
   "cell_type": "code",
   "execution_count": null,
   "metadata": {},
   "outputs": [],
   "source": [
    "len(vocab)"
   ]
  },
  {
   "cell_type": "markdown",
   "metadata": {},
   "source": [
    "### Build dataset files"
   ]
  },
  {
   "cell_type": "code",
   "execution_count": 1,
   "metadata": {},
   "outputs": [],
   "source": [
    "import re\n",
    "ids_dict = {line.strip().split('\\t')[1]:re.sub(r'\\[.*\\]', '', line.strip().split('\\t')[2]) for line in open('ids.txt', 'r').readlines() if not line.startswith('#') and len(line.strip().split('\\t')) > 1}"
   ]
  },
  {
   "cell_type": "markdown",
   "metadata": {},
   "source": [
    "### Recursive IDS"
   ]
  },
  {
   "cell_type": "code",
   "execution_count": 2,
   "metadata": {},
   "outputs": [],
   "source": [
    "# vocab_ids_dict\n",
    "def get_full_ids(c):\n",
    "    seq = ids_dict.get(c, c)\n",
    "    if len(seq) > 1 and c not in seq:\n",
    "        return ''.join([get_full_ids(cc) for cc in seq])\n",
    "    return c     "
   ]
  },
  {
   "cell_type": "code",
   "execution_count": 3,
   "metadata": {},
   "outputs": [],
   "source": [
    "ids_exp_dict = {k: get_full_ids(k) for k in ids_dict}"
   ]
  },
  {
   "cell_type": "code",
   "execution_count": 13,
   "metadata": {},
   "outputs": [],
   "source": [
    "single = [v for v in ids_exp_dict.values() if len(v) <= 1]"
   ]
  },
  {
   "cell_type": "code",
   "execution_count": 14,
   "metadata": {},
   "outputs": [],
   "source": [
    "# write to file\n",
    "with open('single.txt', 'w') as f:\n",
    "    for s in sorted(single):\n",
    "        f.write(f'{s}\\n')"
   ]
  },
  {
   "cell_type": "code",
   "execution_count": 18,
   "metadata": {},
   "outputs": [],
   "source": [
    "# write to file\n",
    "with open('ids_exp.txt', 'w') as f:\n",
    "    f.writelines([f'{k}\\t{v}\\n' for k, v in ids_exp_dict.items()])\n"
   ]
  },
  {
   "cell_type": "code",
   "execution_count": null,
   "metadata": {},
   "outputs": [],
   "source": [
    "# build vocab\n",
    "vocab_ids = set()\n",
    "for k, v in ids_exp_dict.items():\n",
    "    vocab_ids.update(v)\n",
    "\n",
    "len(vocab_ids)"
   ]
  },
  {
   "cell_type": "code",
   "execution_count": 20,
   "metadata": {},
   "outputs": [],
   "source": [
    "# write vocab ids full to file\n",
    "with open('vocab_ids.txt', 'w') as f:\n",
    "    f.write('\\n'.join(sorted(vocab_ids)))"
   ]
  },
  {
   "cell_type": "markdown",
   "metadata": {},
   "source": [
    "### Build encoder"
   ]
  },
  {
   "cell_type": "code",
   "execution_count": 1,
   "metadata": {},
   "outputs": [],
   "source": [
    "# load vocab ids\n",
    "base_vocab = open('vocab_ids.txt', 'r').read().split('\\n')\n",
    "ids_dict = {line.strip().split('\\t')[0]:line.strip().split('\\t')[1] for line in open('ids_exp.txt', 'r').readlines()}"
   ]
  },
  {
   "cell_type": "code",
   "execution_count": null,
   "metadata": {},
   "outputs": [],
   "source": [
    "from trie_search import Trie, TrieNode\n",
    "\n",
    "class Vocab:\n",
    "    def __init__(self, base_vocab, ids_dict):\n",
    "        self.id2char = {i: c for i, c in enumerate(base_vocab)}\n",
    "        self.char2id = {c: i for i, c in self.id2char.items()}\n",
    "        self.size = len(base_vocab)\n",
    "        self.ids_dict = ids_dict\n",
    "        self.ids_dict_rev = {v: k for k, v in ids_dict.items()}\n",
    "\n",
    "        self.trie = Trie()\n",
    "        for k, v in ids_dict.items():\n",
    "            self.trie.insert(self.encode(k))\n",
    "        \n",
    "    def __len__(self):\n",
    "        return self.size\n",
    "    \n",
    "    def encode(self, c):\n",
    "        return [self.char2id[c] for c in self.ids_dict[c]]\n",
    "\n",
    "    def decode(self, ids):\n",
    "        closest = self.trie.search_fuzzy(ids, max_distance=5)\n",
    "        if len(closest) > 0:\n",
    "            return self.ids_dict_rev[''.join([self.id2char[i] for i in closest[0][0]])]\n",
    "        return None"
   ]
  },
  {
   "cell_type": "code",
   "execution_count": 3,
   "metadata": {},
   "outputs": [],
   "source": [
    "vocab = Vocab(base_vocab, ids_dict)"
   ]
  },
  {
   "cell_type": "code",
   "execution_count": null,
   "metadata": {},
   "outputs": [],
   "source": [
    "vocab.decode(vocab.encode('閇'))"
   ]
  }
 ],
 "metadata": {
  "kernelspec": {
   "display_name": "nom-ocr",
   "language": "python",
   "name": "python3"
  },
  "language_info": {
   "codemirror_mode": {
    "name": "ipython",
    "version": 3
   },
   "file_extension": ".py",
   "mimetype": "text/x-python",
   "name": "python",
   "nbconvert_exporter": "python",
   "pygments_lexer": "ipython3",
   "version": "3.9.18"
  }
 },
 "nbformat": 4,
 "nbformat_minor": 2
}
